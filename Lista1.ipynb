{
 "cells": [
  {
   "cell_type": "code",
   "execution_count": 1,
   "metadata": {},
   "outputs": [
    {
     "name": "stdout",
     "output_type": "stream",
     "text": [
      "0\n"
     ]
    }
   ],
   "source": [
    "#Questão 1 \n",
    "def hola_mundo():\n",
    "    return 0\n",
    "chamar = hola_mundo()\n",
    "print(chamar)\n"
   ]
  },
  {
   "cell_type": "code",
   "execution_count": 2,
   "metadata": {},
   "outputs": [
    {
     "name": "stdout",
     "output_type": "stream",
     "text": [
      "40.0\n"
     ]
    }
   ],
   "source": [
    "#questão 2\n",
    "a = float(input('Digite um número: '))\n",
    "b = float(input('Digite outro número: '))\n",
    "\n",
    "soma = a + b \n",
    "print(soma)"
   ]
  },
  {
   "cell_type": "code",
   "execution_count": 3,
   "metadata": {},
   "outputs": [
    {
     "name": "stdout",
     "output_type": "stream",
     "text": [
      "é impar!\n"
     ]
    }
   ],
   "source": [
    "#Questão 3\n",
    "\n",
    "number = int(input('Digite um número:'))\n",
    "resto = number % 2\n",
    "if resto == 0:\n",
    "    print('é par!')\n",
    "else:\n",
    "    print('é impar!')"
   ]
  },
  {
   "cell_type": "code",
   "execution_count": 4,
   "metadata": {},
   "outputs": [
    {
     "name": "stdout",
     "output_type": "stream",
     "text": [
      "58.0\n"
     ]
    }
   ],
   "source": [
    "#Questão 4 \n",
    "number1 = float(input('Digite um número:'))\n",
    "number2 = float(input('Digite outro número:'))\n",
    "soma = number1 + number2 \n",
    "subtracao = number1 - number2\n",
    "multiplicacao = number1 * number2\n",
    "divisao = number1 / number2\n",
    "\n",
    "escolha = int(input('''\n",
    "Escolha a operação desejada:\n",
    "[1] Soma\n",
    "[2] Subtração\n",
    "[3] Multiplicação\n",
    "[4] Divisão'''))\n",
    "\n",
    "if escolha == 1:\n",
    "    print(soma)\n",
    "elif escolha == 2:\n",
    "    print(subtracao)\n",
    "elif escolha == 3:\n",
    "    print(multiplicacao)\n",
    "elif escolha == 4:\n",
    "    print(divisao)\n",
    "else:\n",
    "    print('Digite um opção valida!')"
   ]
  },
  {
   "cell_type": "code",
   "execution_count": 8,
   "metadata": {},
   "outputs": [
    {
     "name": "stdout",
     "output_type": "stream",
     "text": [
      "9.00\n"
     ]
    }
   ],
   "source": [
    "\n",
    "#Questão 5\n",
    "P1 = float(input('Digite o valor da nota 1:'))\n",
    "P2 = float(input('Digite o valor da nota 2:'))\n",
    "P3 = float(input('Digite o valor da nota 3:'))\n",
    "\n",
    "def calcular_media(P1, P2, P3):\n",
    "    return (P1 + P2 + P3)/3\n",
    "resultado = calcular_media (P1, P2, P3)\n",
    "print(f'{resultado:.2f}')"
   ]
  },
  {
   "cell_type": "code",
   "execution_count": null,
   "metadata": {},
   "outputs": [
    {
     "name": "stdout",
     "output_type": "stream",
     "text": [
      "122.0\n"
     ]
    }
   ],
   "source": [
    "#Questão 6\n",
    "def conversao_temp(temp):\n",
    "    return (temp * 1.8 ) + 32\n",
    "resultado = conversao_temp(50)\n",
    "print(resultado)"
   ]
  },
  {
   "cell_type": "code",
   "execution_count": null,
   "metadata": {},
   "outputs": [
    {
     "name": "stdout",
     "output_type": "stream",
     "text": [
      "120\n"
     ]
    }
   ],
   "source": [
    "#Questão 7\n",
    "import math\n",
    "def calcular_fat(fat):\n",
    "    return math.factorial(fat)\n",
    "print(calcular_fat(5))\n"
   ]
  },
  {
   "cell_type": "code",
   "execution_count": null,
   "metadata": {},
   "outputs": [
    {
     "name": "stdout",
     "output_type": "stream",
     "text": [
      "1\n",
      "3\n",
      "5\n",
      "7\n",
      "9\n",
      "11\n",
      "13\n",
      "15\n",
      "17\n",
      "19\n",
      "21\n",
      "23\n",
      "25\n",
      "27\n",
      "29\n",
      "31\n",
      "33\n",
      "35\n",
      "37\n",
      "39\n",
      "41\n",
      "43\n",
      "45\n",
      "47\n",
      "49\n",
      "51\n",
      "53\n",
      "55\n",
      "57\n",
      "59\n",
      "61\n",
      "63\n",
      "65\n",
      "67\n",
      "69\n",
      "71\n",
      "73\n",
      "75\n",
      "77\n",
      "79\n",
      "81\n",
      "83\n",
      "85\n",
      "87\n",
      "89\n",
      "91\n",
      "93\n",
      "95\n",
      "97\n",
      "99\n"
     ]
    }
   ],
   "source": [
    " #Questão 8\n",
    "n = 0\n",
    "while True:\n",
    "    if n >= 100:\n",
    "        break\n",
    "    n = n + 1\n",
    "    if n % 2 == 1:\n",
    "        print(n)"
   ]
  },
  {
   "cell_type": "code",
   "execution_count": null,
   "metadata": {},
   "outputs": [
    {
     "name": "stdout",
     "output_type": "stream",
     "text": [
      "13 é um número primo.\n"
     ]
    }
   ],
   "source": [
    "#Questão 9\n",
    "n = int(input(\"Digite um número: \"))\n",
    "\n",
    "if n <= 1:\n",
    "    print(f\"{n} não é um número primo.\")\n",
    "elif n == 2:\n",
    "    print(f\"{n} é um número primo.\")\n",
    "elif n % 2 == 0:\n",
    "    print(f\"{n} não é um número primo.\")\n",
    "else:\n",
    "    primo = True\n",
    "    for i in range(3, int(n**0.5) + 1, 2):\n",
    "        if n % i == 0:\n",
    "            primo = False\n",
    "            break\n",
    "    \n",
    "    if primo:\n",
    "        print(f\"{n} é um número primo.\")\n",
    "    else:\n",
    "        print(f\"{n} não é um número primo.\")"
   ]
  },
  {
   "cell_type": "code",
   "execution_count": null,
   "metadata": {},
   "outputs": [],
   "source": [
    "#Questão 10"
   ]
  },
  {
   "cell_type": "code",
   "execution_count": 12,
   "metadata": {},
   "outputs": [
    {
     "name": "stdout",
     "output_type": "stream",
     "text": [
      "\n",
      "    A tabuada do número 3 será: \n",
      "    0\n",
      "    3\n",
      "    6\n",
      "    9\n",
      "    12\n",
      "    15\n",
      "    18\n",
      "    21\n",
      "    24\n",
      "    27\n",
      "    30\n",
      "      \n"
     ]
    }
   ],
   "source": [
    "#Questão 11\n",
    "number = int(input('Digite um número: '))\n",
    "print(f'''\n",
    "    A tabuada do número {number} será: \n",
    "    {number*0}\n",
    "    {number*1}\n",
    "    {number*2}\n",
    "    {number*3}\n",
    "    {number*4}\n",
    "    {number*5}\n",
    "    {number*6}\n",
    "    {number*7}\n",
    "    {number*8}\n",
    "    {number*9}\n",
    "    {number*10}\n",
    "      ''')"
   ]
  },
  {
   "cell_type": "code",
   "execution_count": 14,
   "metadata": {},
   "outputs": [
    {
     "name": "stdout",
     "output_type": "stream",
     "text": [
      "22223"
     ]
    }
   ],
   "source": [
    "#Questão 12 \n",
    "texto = input('Digite uma palavra: ')\n",
    "vogais = 'a', 'e', 'i', 'o', 'u'\n",
    "frase  = texto.lower()\n",
    "total = 0 \n",
    "for vogal in vogais:\n",
    "    total += frase.count(vogal)\n",
    "    print(total, end ='')"
   ]
  },
  {
   "cell_type": "code",
   "execution_count": null,
   "metadata": {},
   "outputs": [],
   "source": [
    "#Questão 13\n"
   ]
  },
  {
   "cell_type": "code",
   "execution_count": 15,
   "metadata": {},
   "outputs": [
    {
     "name": "stdout",
     "output_type": "stream",
     "text": [
      "100\n"
     ]
    }
   ],
   "source": [
    "#Questão 14 \n",
    "n1 = int(input('Digite um número: '))\n",
    "n2 = int(input('Digite outro número: '))\n",
    "n3 = int(input('Digite outro número: '))\n",
    "numeros = [n1, n2, n3]\n",
    "maior_num = numeros\n",
    "print(max(maior_num))\n"
   ]
  },
  {
   "cell_type": "code",
   "execution_count": null,
   "metadata": {},
   "outputs": [],
   "source": [
    "#Questão 15"
   ]
  },
  {
   "cell_type": "code",
   "execution_count": 16,
   "metadata": {},
   "outputs": [
    {
     "name": "stdout",
     "output_type": "stream",
     "text": [
      "10\n",
      "9\n",
      "8\n",
      "7\n",
      "6\n",
      "5\n",
      "4\n",
      "3\n",
      "2\n",
      "1\n"
     ]
    }
   ],
   "source": [
    "#Questão 16\n",
    "from time import sleep\n",
    "tempo = 10\n",
    "for i in range(tempo, 0, -1):\n",
    "    print(i)\n",
    "    sleep(1)"
   ]
  },
  {
   "cell_type": "code",
   "execution_count": 17,
   "metadata": {},
   "outputs": [
    {
     "name": "stdout",
     "output_type": "stream",
     "text": [
      "1\n",
      "1\n",
      "2\n",
      "3\n",
      "5\n",
      "8\n",
      "13\n",
      "21\n",
      "34\n",
      "55\n"
     ]
    }
   ],
   "source": [
    "#Questão 17 \n",
    "a=0\n",
    "b=1\n",
    "print(b)\n",
    "for i in range(0,9):\n",
    "    print(a+b)\n",
    "    t=a\n",
    "    a=b\n",
    "    b=t+b\n"
   ]
  },
  {
   "cell_type": "code",
   "execution_count": 22,
   "metadata": {},
   "outputs": [
    {
     "name": "stdout",
     "output_type": "stream",
     "text": [
      "CARA\n"
     ]
    }
   ],
   "source": [
    "#Questão 18\n",
    "import random\n",
    "moeda = ['CARA', 'COROA']\n",
    "resultado = random.choice(moeda)\n",
    "print(resultado)"
   ]
  },
  {
   "cell_type": "code",
   "execution_count": 23,
   "metadata": {},
   "outputs": [],
   "source": [
    "#Questão 19\n"
   ]
  },
  {
   "cell_type": "code",
   "execution_count": 25,
   "metadata": {},
   "outputs": [
    {
     "name": "stdout",
     "output_type": "stream",
     "text": [
      "Escoha um número maior!\n",
      "Escoha um número maior!\n",
      "Escoha um número maior!\n",
      "Escolha um número menor!\n",
      "Acerto garantido!\n"
     ]
    }
   ],
   "source": [
    "#Questão 20\n",
    "import random \n",
    "numero_aleatorio = random.randint(0, 100)\n",
    "while True:\n",
    "    numero_usuario = int(input('Escolha um número de 0 a 100: '))\n",
    "\n",
    "    if numero_usuario < numero_aleatorio:\n",
    "        print('Escoha um número maior!')\n",
    "    elif numero_usuario > numero_aleatorio:\n",
    "        print('Escolha um número menor!')\n",
    "    elif numero_usuario == numero_aleatorio:\n",
    "        print('Acerto garantido!')\n",
    "        break\n",
    "\n",
    "    \n"
   ]
  }
 ],
 "metadata": {
  "kernelspec": {
   "display_name": "Python 3",
   "language": "python",
   "name": "python3"
  },
  "language_info": {
   "codemirror_mode": {
    "name": "ipython",
    "version": 3
   },
   "file_extension": ".py",
   "mimetype": "text/x-python",
   "name": "python",
   "nbconvert_exporter": "python",
   "pygments_lexer": "ipython3",
   "version": "3.12.3"
  }
 },
 "nbformat": 4,
 "nbformat_minor": 2
}
