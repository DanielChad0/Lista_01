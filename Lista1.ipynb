{
 "cells": [
  {
   "cell_type": "code",
   "execution_count": 1,
   "metadata": {},
   "outputs": [
    {
     "name": "stdout",
     "output_type": "stream",
     "text": [
      "Olá Mundo!\n"
     ]
    }
   ],
   "source": [
    "#Questão 1 \n",
    "print('Olá Mundo!')"
   ]
  },
  {
   "cell_type": "code",
   "execution_count": 5,
   "metadata": {},
   "outputs": [
    {
     "name": "stdout",
     "output_type": "stream",
     "text": [
      "7.0\n"
     ]
    }
   ],
   "source": [
    "#questão 2\n",
    "a = float(input('Digite um número:'))\n",
    "b = float(input('Digite um número:'))\n",
    "\n",
    "soma = a + b \n",
    "print(soma)"
   ]
  },
  {
   "cell_type": "code",
   "execution_count": 9,
   "metadata": {},
   "outputs": [
    {
     "name": "stdout",
     "output_type": "stream",
     "text": [
      "é par!\n"
     ]
    }
   ],
   "source": [
    "#Questão 3\n",
    "\n",
    "number = int(input('Digite um número:'))\n",
    "resto = number % 2\n",
    "if resto == 0:\n",
    "    print('é par!')\n",
    "else:\n",
    "    print('é impar!')"
   ]
  },
  {
   "cell_type": "code",
   "execution_count": 12,
   "metadata": {},
   "outputs": [
    {
     "name": "stdout",
     "output_type": "stream",
     "text": [
      "4.0\n"
     ]
    }
   ],
   "source": [
    "#Questão 4 \n",
    "number1 = float(input('Digite um número:'))\n",
    "number2 = float(input('Digite outro número:'))\n",
    "soma = number1 + number2 \n",
    "subtracao = number1 - number2\n",
    "multiplicacao = number1 * number2\n",
    "divisao = number1 / number2\n",
    "\n",
    "escolha = int(input('''\n",
    "Escolha a operação desejada:\n",
    "[1] Soma\n",
    "[2] Subtração\n",
    "[3] Multiplicação\n",
    "[4] Divisão'''))\n",
    "\n",
    "if escolha == 1:\n",
    "    print(soma)\n",
    "elif escolha == 2:\n",
    "    print(subtracao)\n",
    "elif escolha == 3:\n",
    "    print(multiplicacao)\n",
    "elif escolha == 4:\n",
    "    print(divisao)\n",
    "else:\n",
    "    print('Digite um opção valida!')"
   ]
  },
  {
   "cell_type": "code",
   "execution_count": 29,
   "metadata": {},
   "outputs": [
    {
     "name": "stdout",
     "output_type": "stream",
     "text": [
      "5.0\n"
     ]
    }
   ],
   "source": [
    "\n",
    "#Questão 5\n",
    "P1 = float(input('Digite o valor da nota 1:'))\n",
    "P2 = float(input('Digite o valor da nota 2:'))\n",
    "P3 = float(input('Digite o valor da nota 3:'))\n",
    "\n",
    "def calcular_media(P1, P2, P3):\n",
    "    return (P1 + P2 + P3)/3\n",
    "resultado = calcular_media (P1, P2, P3)\n",
    "print(resultado)"
   ]
  },
  {
   "cell_type": "code",
   "execution_count": 91,
   "metadata": {},
   "outputs": [
    {
     "name": "stdout",
     "output_type": "stream",
     "text": [
      "122.0\n"
     ]
    },
    {
     "data": {
      "text/plain": [
       "122.0"
      ]
     },
     "execution_count": 91,
     "metadata": {},
     "output_type": "execute_result"
    }
   ],
   "source": [
    "#Questão 6\n",
    "def conversao_temp(temp):\n",
    "    return (temp * 1.8 ) + 32\n",
    "resultado = conversao_temp(50)\n",
    "print(resultado)"
   ]
  },
  {
   "cell_type": "code",
   "execution_count": 98,
   "metadata": {},
   "outputs": [
    {
     "name": "stdout",
     "output_type": "stream",
     "text": [
      "120\n"
     ]
    }
   ],
   "source": [
    "#Questão 7\n",
    "import math\n",
    "def calcular_fat(fat):\n",
    "    return math.factorial(fat)\n",
    "print(calcular_fat(5))\n"
   ]
  },
  {
   "cell_type": "code",
   "execution_count": 105,
   "metadata": {},
   "outputs": [
    {
     "name": "stdout",
     "output_type": "stream",
     "text": [
      "5\n"
     ]
    },
    {
     "ename": "TypeError",
     "evalue": "'float' object is not callable",
     "output_type": "error",
     "traceback": [
      "\u001b[1;31m---------------------------------------------------------------------------\u001b[0m",
      "\u001b[1;31mTypeError\u001b[0m                                 Traceback (most recent call last)",
      "Cell \u001b[1;32mIn[105], line 5\u001b[0m\n\u001b[0;32m      3\u001b[0m     \u001b[38;5;28;01mif\u001b[39;00m n \u001b[38;5;241m%\u001b[39m \u001b[38;5;241m2\u001b[39m \u001b[38;5;241m!=\u001b[39m \u001b[38;5;241m0\u001b[39m:\n\u001b[0;32m      4\u001b[0m         \u001b[38;5;28mprint\u001b[39m(n)\n\u001b[1;32m----> 5\u001b[0m \u001b[38;5;28mint\u001b[39m(\u001b[43mresultado\u001b[49m\u001b[43m(\u001b[49m\u001b[43mcontar_impar\u001b[49m\u001b[43m(\u001b[49m\u001b[38;5;241;43m5\u001b[39;49m\u001b[43m)\u001b[49m\u001b[43m)\u001b[49m)\n\u001b[0;32m      6\u001b[0m \u001b[38;5;28mprint\u001b[39m(resultado) \n",
      "\u001b[1;31mTypeError\u001b[0m: 'float' object is not callable"
     ]
    }
   ],
   "source": [
    "#Questão 8\n",
    "def contar_impar(n):\n",
    "    if n % 2 != 0:\n",
    "        print(n)\n",
    "int(resultado(contar_impar(5)))\n",
    "print(resultado) "
   ]
  },
  {
   "cell_type": "code",
   "execution_count": null,
   "metadata": {},
   "outputs": [],
   "source": [
    "#Questão 10\n",
    "import random \n",
    "frase = input('Digite uma palavra:')"
   ]
  }
 ],
 "metadata": {
  "kernelspec": {
   "display_name": "Python 3",
   "language": "python",
   "name": "python3"
  },
  "language_info": {
   "codemirror_mode": {
    "name": "ipython",
    "version": 3
   },
   "file_extension": ".py",
   "mimetype": "text/x-python",
   "name": "python",
   "nbconvert_exporter": "python",
   "pygments_lexer": "ipython3",
   "version": "3.12.3"
  }
 },
 "nbformat": 4,
 "nbformat_minor": 2
}
